{
  "nbformat": 4,
  "nbformat_minor": 0,
  "metadata": {
    "colab": {
      "provenance": [],
      "authorship_tag": "ABX9TyMV6jRC0aXAyZWM1DQWphul",
      "include_colab_link": true
    },
    "kernelspec": {
      "name": "python3",
      "display_name": "Python 3"
    },
    "language_info": {
      "name": "python"
    }
  },
  "cells": [
    {
      "cell_type": "markdown",
      "metadata": {
        "id": "view-in-github",
        "colab_type": "text"
      },
      "source": [
        "<a href=\"https://colab.research.google.com/github/Balaji-jadhav15/devops-workshop/blob/master/Sentimental_analysis.ipynb\" target=\"_parent\"><img src=\"https://colab.research.google.com/assets/colab-badge.svg\" alt=\"Open In Colab\"/></a>"
      ]
    },
    {
      "cell_type": "code",
      "execution_count": 11,
      "metadata": {
        "colab": {
          "base_uri": "https://localhost:8080/"
        },
        "id": "H4qPoPVZmflb",
        "outputId": "a48755ae-701e-4791-93da-d7cc63d053c0"
      },
      "outputs": [
        {
          "output_type": "stream",
          "name": "stderr",
          "text": [
            "Downloading...\n",
            "From: https://drive.google.com/uc?id=1wsXO9JTyAm1dnJIQDSgbpU9gFGm8_iu9\n",
            "To: /content/restaurant_reviews.tsv\n",
            "100%|██████████| 61.3k/61.3k [00:00<00:00, 53.6MB/s]\n"
          ]
        },
        {
          "output_type": "stream",
          "name": "stdout",
          "text": [
            "Cross-validation accuracy: 0.78\n",
            "Classification Report:\n",
            "              precision    recall  f1-score   support\n",
            "\n",
            "    negative       0.78      0.79      0.79        96\n",
            "    positive       0.81      0.80      0.80       104\n",
            "\n",
            "    accuracy                           0.80       200\n",
            "   macro avg       0.79      0.79      0.79       200\n",
            "weighted avg       0.80      0.80      0.80       200\n",
            "\n",
            "Accuracy: 0.80\n",
            "Enter a sentence: I like the food\n",
            "The sentiment is: positive\n"
          ]
        }
      ],
      "source": [
        "import pandas as pd\n",
        "import gdown\n",
        "from sklearn.model_selection import train_test_split, cross_val_score\n",
        "from sklearn.feature_extraction.text import TfidfVectorizer\n",
        "from sklearn.naive_bayes import MultinomialNB\n",
        "from sklearn.metrics import classification_report, accuracy_score\n",
        "\n",
        "\n",
        "file_id = \"1wsXO9JTyAm1dnJIQDSgbpU9gFGm8_iu9\"\n",
        "output = \"restaurant_reviews.tsv\"\n",
        "\n",
        "\n",
        "gdown.download(f\"https://drive.google.com/uc?id={file_id}\", output, quiet=False)\n",
        "\n",
        "\n",
        "data = pd.read_csv(output, delimiter='\\t')\n",
        "\n",
        "\n",
        "data = data.rename(columns={\"Review\": \"text\", \"Liked\": \"sentiment\"})\n",
        "\n",
        "\n",
        "data['sentiment'] = data['sentiment'].apply(lambda x: \"positive\" if x == 1 else \"negative\")\n",
        "\n",
        "\n",
        "X = data['text']\n",
        "y = data['sentiment']\n",
        "\n",
        "\n",
        "X_train, X_test, y_train, y_test = train_test_split(X, y, test_size=0.2, random_state=42)\n",
        "\n",
        "\n",
        "vectorizer = TfidfVectorizer(lowercase=True, stop_words='english', ngram_range=(1, 2), max_features=5000)\n",
        "X_train_vectors = vectorizer.fit_transform(X_train)\n",
        "X_test_vectors = vectorizer.transform(X_test)\n",
        "\n",
        "\n",
        "model = MultinomialNB(alpha=1.0)\n",
        "\n",
        "\n",
        "cv_scores = cross_val_score(model, X_train_vectors, y_train, cv=5, scoring='accuracy')\n",
        "print(f\"Cross-validation accuracy: {cv_scores.mean():.2f}\")\n",
        "\n",
        "\n",
        "model.fit(X_train_vectors, y_train)\n",
        "\n",
        "\n",
        "y_pred = model.predict(X_test_vectors)\n",
        "print(\"Classification Report:\")\n",
        "print(classification_report(y_test, y_pred))\n",
        "print(f\"Accuracy: {accuracy_score(y_test, y_pred):.2f}\")\n",
        "\n",
        "\n",
        "def predict_sentiment():\n",
        "    user_input = input(\"Enter a sentence: \")\n",
        "    user_input_vector = vectorizer.transform([user_input])\n",
        "    prediction = model.predict(user_input_vector)\n",
        "    print(f\"The sentiment is: {prediction[0]}\")\n",
        "\n",
        "\n",
        "predict_sentiment()\n"
      ]
    }
  ]
}